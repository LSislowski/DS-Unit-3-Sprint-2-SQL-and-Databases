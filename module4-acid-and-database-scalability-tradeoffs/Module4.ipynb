{
 "cells": [
  {
   "cell_type": "code",
   "execution_count": 1,
   "source": [
    "# Import Libraries \r\n",
    "!pip install pymongo[srv]\r\n",
    "import pymongo\r\n",
    "import psycopg2"
   ],
   "outputs": [
    {
     "output_type": "stream",
     "name": "stdout",
     "text": [
      "Requirement already satisfied: pymongo[srv] in c:\\users\\lsisl\\anaconda3\\envs\\myenv\\lib\\site-packages (3.12.0)\n",
      "Requirement already satisfied: dnspython<2.0.0,>=1.16.0 in c:\\users\\lsisl\\anaconda3\\envs\\myenv\\lib\\site-packages (from pymongo[srv]) (1.16.0)\n"
     ]
    }
   ],
   "metadata": {}
  },
  {
   "cell_type": "code",
   "execution_count": 3,
   "source": [
    "# Connect to your PostgreSQL database\r\n",
    "dbname = \r\n",
    "user = \r\n",
    "password = \r\n",
    "host = \r\n",
    "\r\n",
    "# This code opens a connection\r\n",
    "con = psycopg2.connect(dbname= dbname, user= user, password = password, host= host)\r\n",
    "con"
   ],
   "outputs": [
    {
     "output_type": "execute_result",
     "data": {
      "text/plain": [
       "<connection object at 0x000001C6F4EBD288; dsn: 'user=enfizahe password=xxx dbname=enfizahe host=chunee.db.elephantsql.com', closed: 0>"
      ]
     },
     "metadata": {},
     "execution_count": 3
    }
   ],
   "metadata": {}
  },
  {
   "cell_type": "code",
   "execution_count": 4,
   "source": [
    "# Open a cursor \r\n",
    "p_cur = con.cursor()"
   ],
   "outputs": [],
   "metadata": {}
  },
  {
   "cell_type": "code",
   "execution_count": 3,
   "source": [
    "PASSWORD = \r\n",
    "DBNAME = \r\n",
    "\r\n",
    "client = pymongo.MongoClient(\"mongodb+srv://playerone:@cluster0.1e53z.mongodb.net/Module3?retryWrites=true&w=majority\")\r\n"
   ],
   "outputs": [],
   "metadata": {}
  },
  {
   "cell_type": "code",
   "execution_count": 4,
   "source": [
    "client"
   ],
   "outputs": [
    {
     "output_type": "execute_result",
     "data": {
      "text/plain": [
       "MongoClient(host=['cluster0-shard-00-01.1e53z.mongodb.net:27017', 'cluster0-shard-00-00.1e53z.mongodb.net:27017', 'cluster0-shard-00-02.1e53z.mongodb.net:27017'], document_class=dict, tz_aware=False, connect=True, retrywrites=True, w='majority', authsource='admin', replicaset='atlas-1143b0-shard-0', ssl=True)"
      ]
     },
     "metadata": {},
     "execution_count": 4
    }
   ],
   "metadata": {}
  },
  {
   "cell_type": "code",
   "execution_count": 5,
   "source": [
    "db = client.Module3"
   ],
   "outputs": [],
   "metadata": {}
  },
  {
   "cell_type": "code",
   "execution_count": 6,
   "source": [
    "print(dir(db.Module3))"
   ],
   "outputs": [
    {
     "output_type": "stream",
     "name": "stdout",
     "text": [
      "['_BaseObject__codec_options', '_BaseObject__read_concern', '_BaseObject__read_preference', '_BaseObject__write_concern', '_Collection__create', '_Collection__create_indexes', '_Collection__database', '_Collection__find_and_modify', '_Collection__full_name', '_Collection__name', '_Collection__write_response_codec_options', '__call__', '__class__', '__delattr__', '__dict__', '__dir__', '__doc__', '__eq__', '__format__', '__ge__', '__getattr__', '__getattribute__', '__getitem__', '__gt__', '__hash__', '__init__', '__init_subclass__', '__iter__', '__le__', '__lt__', '__module__', '__ne__', '__new__', '__next__', '__reduce__', '__reduce_ex__', '__repr__', '__setattr__', '__sizeof__', '__str__', '__subclasshook__', '__weakref__', '_aggregate', '_aggregate_one_result', '_command', '_count', '_count_cmd', '_delete', '_delete_retryable', '_insert', '_insert_one', '_legacy_write', '_map_reduce', '_read_preference_for', '_socket_for_reads', '_socket_for_writes', '_update', '_update_retryable', '_write_concern_for', '_write_concern_for_cmd', 'aggregate', 'aggregate_raw_batches', 'bulk_write', 'codec_options', 'count', 'count_documents', 'create_index', 'create_indexes', 'database', 'delete_many', 'delete_one', 'distinct', 'drop', 'drop_index', 'drop_indexes', 'ensure_index', 'estimated_document_count', 'find', 'find_and_modify', 'find_one', 'find_one_and_delete', 'find_one_and_replace', 'find_one_and_update', 'find_raw_batches', 'full_name', 'group', 'index_information', 'initialize_ordered_bulk_op', 'initialize_unordered_bulk_op', 'inline_map_reduce', 'insert', 'insert_many', 'insert_one', 'list_indexes', 'map_reduce', 'name', 'next', 'options', 'parallel_scan', 'read_concern', 'read_preference', 'reindex', 'remove', 'rename', 'replace_one', 'save', 'update', 'update_many', 'update_one', 'watch', 'with_options', 'write_concern']\n"
     ]
    }
   ],
   "metadata": {}
  },
  {
   "cell_type": "markdown",
   "source": [
    "## First we are using the Mongo Database to query our rpg_db we created."
   ],
   "metadata": {}
  },
  {
   "cell_type": "markdown",
   "source": [
    "How many total Characters are there?\r\n",
    "<br>\r\n",
    "302 <br>\r\n",
    "\r\n",
    "How many total Items?\r\n",
    "<br>\r\n",
    "898<br>\r\n",
    "\r\n",
    "How many of the Items are Weapons? How many are not?\r\n",
    "<br>\r\n",
    "37 are weapons and 137 items are not weapons<br>\r\n",
    "\r\n",
    "How many Items does each Character have? (Return first 20 rows)\r\n",
    "<br>\r\n",
    "SEE: items_per_character<br>\r\n",
    "\r\n",
    "How many Weapons does each Character have? (Return first 20 rows)\r\n",
    "<br>\r\n",
    "_________\r\n",
    "On average, how many Items does each Character have?\r\n",
    "<br>\r\n",
    "2.97<br>\r\n",
    "\r\n",
    "On average, how many Weapons does each Character have?\r\n",
    "<br>\r\n",
    "__________"
   ],
   "metadata": {}
  },
  {
   "cell_type": "code",
   "execution_count": 10,
   "source": [
    "# How Many total characters are there?\r\n",
    "characters = db.charactercreator_character.count()\r\n",
    "print(characters)"
   ],
   "outputs": [
    {
     "output_type": "stream",
     "name": "stdout",
     "text": [
      "302\n"
     ]
    },
    {
     "output_type": "stream",
     "name": "stderr",
     "text": [
      "C:\\Users\\lsisl\\anaconda3\\envs\\myenv\\lib\\site-packages\\ipykernel_launcher.py:2: DeprecationWarning: count is deprecated. Use estimated_document_count or count_documents instead. Please note that $where must be replaced by $expr, $near must be replaced by $geoWithin with $center, and $nearSphere must be replaced by $geoWithin with $centerSphere\n",
      "  \n"
     ]
    }
   ],
   "metadata": {}
  },
  {
   "cell_type": "code",
   "execution_count": 12,
   "source": [
    "# How many total items?\r\n",
    "items = db.charactercreator_character_inventory.count()\r\n",
    "print(items)"
   ],
   "outputs": [
    {
     "output_type": "stream",
     "name": "stdout",
     "text": [
      "898\n"
     ]
    },
    {
     "output_type": "stream",
     "name": "stderr",
     "text": [
      "C:\\Users\\lsisl\\anaconda3\\envs\\myenv\\lib\\site-packages\\ipykernel_launcher.py:2: DeprecationWarning: count is deprecated. Use estimated_document_count or count_documents instead. Please note that $where must be replaced by $expr, $near must be replaced by $geoWithin with $center, and $nearSphere must be replaced by $geoWithin with $centerSphere\n",
      "  \n"
     ]
    }
   ],
   "metadata": {}
  },
  {
   "cell_type": "code",
   "execution_count": 14,
   "source": [
    "# How many of the items are weapons vs not?\r\n",
    "weapons = db.armory_weapon.count()\r\n",
    "not_weapons = db.armory_item.count() - weapons\r\n",
    "\r\n",
    "print(weapons)\r\n",
    "print(not_weapons)"
   ],
   "outputs": [
    {
     "output_type": "stream",
     "name": "stdout",
     "text": [
      "37\n",
      "137\n"
     ]
    },
    {
     "output_type": "stream",
     "name": "stderr",
     "text": [
      "C:\\Users\\lsisl\\anaconda3\\envs\\myenv\\lib\\site-packages\\ipykernel_launcher.py:2: DeprecationWarning: count is deprecated. Use estimated_document_count or count_documents instead. Please note that $where must be replaced by $expr, $near must be replaced by $geoWithin with $center, and $nearSphere must be replaced by $geoWithin with $centerSphere\n",
      "  \n",
      "C:\\Users\\lsisl\\anaconda3\\envs\\myenv\\lib\\site-packages\\ipykernel_launcher.py:3: DeprecationWarning: count is deprecated. Use estimated_document_count or count_documents instead. Please note that $where must be replaced by $expr, $near must be replaced by $geoWithin with $center, and $nearSphere must be replaced by $geoWithin with $centerSphere\n",
      "  This is separate from the ipykernel package so we can avoid doing imports until\n"
     ]
    }
   ],
   "metadata": {}
  },
  {
   "cell_type": "code",
   "execution_count": 26,
   "source": [
    "# How many items does each character have?\r\n",
    "items_per_character = db.charactercreator_character_inventory.aggregate([\r\n",
    "    {\"$group\": {\"_id\": \"$id\", \"count\": {\"$sum\": 1}}}\r\n",
    "])"
   ],
   "outputs": [],
   "metadata": {}
  },
  {
   "cell_type": "code",
   "execution_count": 27,
   "source": [
    "import pprint\r\n",
    "pprint.pprint(list(items_per_character)[0:20])"
   ],
   "outputs": [
    {
     "output_type": "stream",
     "name": "stdout",
     "text": [
      "[{'_id': 158, 'count': 1},\n",
      " {'_id': 192, 'count': 2},\n",
      " {'_id': 181, 'count': 5},\n",
      " {'_id': 203, 'count': 1},\n",
      " {'_id': 163, 'count': 3},\n",
      " {'_id': 179, 'count': 2},\n",
      " {'_id': 137, 'count': 3},\n",
      " {'_id': 254, 'count': 1},\n",
      " {'_id': 53, 'count': 5},\n",
      " {'_id': 260, 'count': 4},\n",
      " {'_id': 200, 'count': 1},\n",
      " {'_id': 145, 'count': 4},\n",
      " {'_id': 175, 'count': 3},\n",
      " {'_id': 285, 'count': 5},\n",
      " {'_id': 139, 'count': 5},\n",
      " {'_id': 284, 'count': 1},\n",
      " {'_id': 213, 'count': 2},\n",
      " {'_id': 206, 'count': 5},\n",
      " {'_id': 43, 'count': 1},\n",
      " {'_id': 236, 'count': 1}]\n"
     ]
    }
   ],
   "metadata": {}
  },
  {
   "cell_type": "code",
   "execution_count": 31,
   "source": [
    "# How many weapons does each character have?\r\n",
    "avg_items_per_character = db.charactercreator_character_inventory.aggregate([\r\n",
    "    {\"$group\": {\"_id\": \"$id\", \"count\": {\"$sum\": 1}}},\r\n",
    "    {'$group': {'_id': 'null', 'avg': {'$avg': '$count'}}}\r\n",
    "])\r\n",
    "\r\n",
    "pprint.pprint(list(avg_items_per_character)[0]['avg'])"
   ],
   "outputs": [
    {
     "output_type": "stream",
     "name": "stdout",
     "text": [
      "2.9735099337748343\n"
     ]
    }
   ],
   "metadata": {}
  },
  {
   "cell_type": "markdown",
   "source": [
    "## Now we are going to look at the PostgreSQL table calling queries to answer the \r\n",
    "## questions from the readme.md document. "
   ],
   "metadata": {}
  },
  {
   "cell_type": "markdown",
   "source": [
    "- How many passengers survived, and how many died? \r\n",
    "<br>\r\n",
    "Survived: 342<br>\r\n",
    "Died: 545<br>\r\n",
    "<br>\r\n",
    "- How many passengers were in each class?<br>\r\n",
    "First Class: 216<br>\r\n",
    "Second Class: 184<br>\r\n",
    "Third Class: 487<br>\r\n",
    "<br>\r\n",
    "- How many passengers survived/died within each class?\r\n",
    "<br>\r\n",
    "First Class Survived: 136<br>\r\n",
    "    First Class Died: 80<br>\r\n",
    "<br>    \r\n",
    "Second Class Survived: 87<br>\r\n",
    "    Second Class Died: 97<br>\r\n",
    "<br>    \r\n",
    "Third Class Survived: 119<br>\r\n",
    "    Third Class Died: 368<br>\r\n",
    "<br>\r\n",
    "- What was the average age of survivors vs nonsurvivors?\r\n",
    "<br>\r\n",
    "Avg Age of Survivors: 28.40<br>\r\n",
    "Avg Age of Non-Survivors: 30.13<br>\r\n",
    "<br>\r\n",
    "- What was the average age of each passenger class?\r\n",
    "<br>\r\n",
    "Avg Age of First Class: 38.78<br>\r\n",
    "Avg Age of Second Class: 29.86<br>\r\n",
    "Avg Age of Third Class: 25.18<br>\r\n",
    "<br>\r\n",
    "- What was the average fare by passenger class? By survival?\r\n",
    "<br>\r\n",
    "Avg Fare of First Class: 84.15<br>\r\n",
    "Avg Fare of Second Class: 20.66<br>\r\n",
    "Avg Fare of Third Class: 13.70<br>\r\n",
    "<br>\r\n",
    "Avg Fare of Survived: 48.39<br>\r\n",
    "Avg Fare of Dead: 22.20<br>\r\n",
    "<br>\r\n",
    "- How many siblings/spouses aboard on average, by passenger class? By survival?\r\n",
    "<br>\r\n",
    "Avg sib_spouse in First Class: 0.41<br>\r\n",
    "Avg sib_spouse in Second Class: 0.40<br>\r\n",
    "Avg sib_spouse in Third Class: 0.62<br>\r\n",
    "<br>\r\n",
    "Avg sib_spouse of Survived: 0.47<br>\r\n",
    "Avg sib_spouse of Died: 0.55<br>\r\n",
    "<br>\r\n",
    "- How many parents/children aboard on average, by passenger class? By survival?\r\n",
    "<br>\r\n",
    "Avg parent_children in First Class: 0.39<br>\r\n",
    "Avg parent_children in Second Class: 0.38<br>\r\n",
    "Avg parent_children in Third Class: 0.35<br>\r\n",
    "<br>\r\n",
    "Avg parent_children of Survived: 0.46<br>\r\n",
    "Avg parent_children of Died: 0.33<br>\r\n",
    "<br>\r\n",
    "- Do any passengers have the same name?\r\n",
    "<br>\r\n",
    "No."
   ],
   "metadata": {}
  },
  {
   "cell_type": "markdown",
   "source": [
    "## 1 How many passengers survived, and how many died? "
   ],
   "metadata": {}
  },
  {
   "cell_type": "code",
   "execution_count": 5,
   "source": [
    "# Total Survived\r\n",
    "p_cur.execute(\"\"\"SELECT count(survived) \r\n",
    "              FROM titanic \r\n",
    "              WHERE survived = 'true';\"\"\")\r\n",
    "p_cur.fetchone()"
   ],
   "outputs": [
    {
     "output_type": "execute_result",
     "data": {
      "text/plain": [
       "(342,)"
      ]
     },
     "metadata": {},
     "execution_count": 5
    }
   ],
   "metadata": {}
  },
  {
   "cell_type": "code",
   "execution_count": 6,
   "source": [
    "# Total Died\r\n",
    "p_cur.execute(\"\"\"SELECT count(survived) \r\n",
    "              FROM titanic \r\n",
    "              WHERE survived = 'false';\"\"\")\r\n",
    "p_cur.fetchone()"
   ],
   "outputs": [
    {
     "output_type": "execute_result",
     "data": {
      "text/plain": [
       "(545,)"
      ]
     },
     "metadata": {},
     "execution_count": 6
    }
   ],
   "metadata": {}
  },
  {
   "cell_type": "markdown",
   "source": [
    "## 2 How many passengers were in each class?"
   ],
   "metadata": {}
  },
  {
   "cell_type": "code",
   "execution_count": 7,
   "source": [
    "# The following three cells are class queries\r\n",
    "p_cur.execute(\"\"\"SELECT count(pclass)\r\n",
    "                   FROM titanic\r\n",
    "                  WHERE pclass = 3\"\"\")\r\n",
    "p_cur.fetchone()"
   ],
   "outputs": [
    {
     "output_type": "execute_result",
     "data": {
      "text/plain": [
       "(487,)"
      ]
     },
     "metadata": {},
     "execution_count": 7
    }
   ],
   "metadata": {}
  },
  {
   "cell_type": "code",
   "execution_count": 8,
   "source": [
    "p_cur.execute(\"\"\"SELECT count(pclass)\r\n",
    "                   FROM titanic\r\n",
    "                  WHERE pclass = 2\"\"\")\r\n",
    "p_cur.fetchone()"
   ],
   "outputs": [
    {
     "output_type": "execute_result",
     "data": {
      "text/plain": [
       "(184,)"
      ]
     },
     "metadata": {},
     "execution_count": 8
    }
   ],
   "metadata": {}
  },
  {
   "cell_type": "code",
   "execution_count": 9,
   "source": [
    "p_cur.execute(\"\"\"SELECT count(pclass)\r\n",
    "                   FROM titanic\r\n",
    "                  WHERE pclass = 1\"\"\")\r\n",
    "p_cur.fetchone()"
   ],
   "outputs": [
    {
     "output_type": "execute_result",
     "data": {
      "text/plain": [
       "(216,)"
      ]
     },
     "metadata": {},
     "execution_count": 9
    }
   ],
   "metadata": {}
  },
  {
   "cell_type": "markdown",
   "source": [
    "## 3 How many passengers survived/died within each class?"
   ],
   "metadata": {}
  },
  {
   "cell_type": "code",
   "execution_count": 10,
   "source": [
    "# The following three queries are for each class survived\r\n",
    "p_cur.execute(\"\"\"SELECT count(pclass)\r\n",
    "                   FROM titanic\r\n",
    "                  WHERE pclass = 3\r\n",
    "                    AND survived = 'true'\"\"\")\r\n",
    "p_cur.fetchone()"
   ],
   "outputs": [
    {
     "output_type": "execute_result",
     "data": {
      "text/plain": [
       "(119,)"
      ]
     },
     "metadata": {},
     "execution_count": 10
    }
   ],
   "metadata": {}
  },
  {
   "cell_type": "code",
   "execution_count": 11,
   "source": [
    "p_cur.execute(\"\"\"SELECT count(pclass)\r\n",
    "                   FROM titanic\r\n",
    "                  WHERE pclass = 2\r\n",
    "                    AND survived = 'true'\"\"\")\r\n",
    "p_cur.fetchone()"
   ],
   "outputs": [
    {
     "output_type": "execute_result",
     "data": {
      "text/plain": [
       "(87,)"
      ]
     },
     "metadata": {},
     "execution_count": 11
    }
   ],
   "metadata": {}
  },
  {
   "cell_type": "code",
   "execution_count": 12,
   "source": [
    "p_cur.execute(\"\"\"SELECT count(pclass)\r\n",
    "                   FROM titanic\r\n",
    "                  WHERE pclass = 1\r\n",
    "                    AND survived = 'true'\"\"\")\r\n",
    "p_cur.fetchone()"
   ],
   "outputs": [
    {
     "output_type": "execute_result",
     "data": {
      "text/plain": [
       "(136,)"
      ]
     },
     "metadata": {},
     "execution_count": 12
    }
   ],
   "metadata": {}
  },
  {
   "cell_type": "code",
   "execution_count": 13,
   "source": [
    "# The following three queries are for the number of each class that died\r\n",
    "p_cur.execute(\"\"\"SELECT count(pclass)\r\n",
    "                   FROM titanic\r\n",
    "                  WHERE pclass = 3\r\n",
    "                    AND survived = 'false'\"\"\")\r\n",
    "p_cur.fetchone()"
   ],
   "outputs": [
    {
     "output_type": "execute_result",
     "data": {
      "text/plain": [
       "(368,)"
      ]
     },
     "metadata": {},
     "execution_count": 13
    }
   ],
   "metadata": {}
  },
  {
   "cell_type": "code",
   "execution_count": 14,
   "source": [
    "p_cur.execute(\"\"\"SELECT count(pclass)\r\n",
    "                   FROM titanic\r\n",
    "                  WHERE pclass = 2\r\n",
    "                    AND survived = 'false'\"\"\")\r\n",
    "p_cur.fetchone()"
   ],
   "outputs": [
    {
     "output_type": "execute_result",
     "data": {
      "text/plain": [
       "(97,)"
      ]
     },
     "metadata": {},
     "execution_count": 14
    }
   ],
   "metadata": {}
  },
  {
   "cell_type": "code",
   "execution_count": 15,
   "source": [
    "p_cur.execute(\"\"\"SELECT count(pclass)\r\n",
    "                   FROM titanic\r\n",
    "                  WHERE pclass = 1\r\n",
    "                    AND survived = 'false'\"\"\")\r\n",
    "p_cur.fetchone()"
   ],
   "outputs": [
    {
     "output_type": "execute_result",
     "data": {
      "text/plain": [
       "(80,)"
      ]
     },
     "metadata": {},
     "execution_count": 15
    }
   ],
   "metadata": {}
  },
  {
   "cell_type": "markdown",
   "source": [
    "## 4 What was the average age of survivors vs nonsurvivors?"
   ],
   "metadata": {}
  },
  {
   "cell_type": "code",
   "execution_count": 16,
   "source": [
    "# The following two queries are for the average age of survivors and non survivors\r\n",
    "p_cur.execute(\"\"\"SELECT AVG(age)\r\n",
    "                   FROM titanic\r\n",
    "                  WHERE survived = 'true'\"\"\")\r\n",
    "p_cur.fetchone()"
   ],
   "outputs": [
    {
     "output_type": "execute_result",
     "data": {
      "text/plain": [
       "(28.4083918128655,)"
      ]
     },
     "metadata": {},
     "execution_count": 16
    }
   ],
   "metadata": {}
  },
  {
   "cell_type": "code",
   "execution_count": 17,
   "source": [
    "p_cur.execute(\"\"\"SELECT AVG(age)\r\n",
    "                   FROM titanic\r\n",
    "                  WHERE survived = 'false'\"\"\")\r\n",
    "p_cur.fetchone()"
   ],
   "outputs": [
    {
     "output_type": "execute_result",
     "data": {
      "text/plain": [
       "(30.1385321100917,)"
      ]
     },
     "metadata": {},
     "execution_count": 17
    }
   ],
   "metadata": {}
  },
  {
   "cell_type": "markdown",
   "source": [
    "## 5 What was the average age of each passenger class?\r\n"
   ],
   "metadata": {}
  },
  {
   "cell_type": "code",
   "execution_count": 18,
   "source": [
    "# The following three queries are for average age by class\r\n",
    "p_cur.execute(\"\"\"SELECT AVG(age)\r\n",
    "                   FROM titanic\r\n",
    "                  WHERE pclass = 3\"\"\")\r\n",
    "p_cur.fetchone()"
   ],
   "outputs": [
    {
     "output_type": "execute_result",
     "data": {
      "text/plain": [
       "(25.1887474332649,)"
      ]
     },
     "metadata": {},
     "execution_count": 18
    }
   ],
   "metadata": {}
  },
  {
   "cell_type": "code",
   "execution_count": 19,
   "source": [
    "p_cur.execute(\"\"\"SELECT AVG(age)\r\n",
    "                   FROM titanic\r\n",
    "                  WHERE pclass = 3\"\"\")\r\n",
    "p_cur.fetchone()"
   ],
   "outputs": [
    {
     "output_type": "execute_result",
     "data": {
      "text/plain": [
       "(25.1887474332649,)"
      ]
     },
     "metadata": {},
     "execution_count": 19
    }
   ],
   "metadata": {}
  },
  {
   "cell_type": "code",
   "execution_count": 20,
   "source": [
    "p_cur.execute(\"\"\"SELECT AVG(age)\r\n",
    "                   FROM titanic\r\n",
    "                  WHERE pclass = 2\"\"\")\r\n",
    "p_cur.fetchone()"
   ],
   "outputs": [
    {
     "output_type": "execute_result",
     "data": {
      "text/plain": [
       "(29.8686413043478,)"
      ]
     },
     "metadata": {},
     "execution_count": 20
    }
   ],
   "metadata": {}
  },
  {
   "cell_type": "code",
   "execution_count": 21,
   "source": [
    "p_cur.execute(\"\"\"SELECT AVG(age)\r\n",
    "                   FROM titanic\r\n",
    "                  WHERE pclass = 1\"\"\")\r\n",
    "p_cur.fetchone()"
   ],
   "outputs": [
    {
     "output_type": "execute_result",
     "data": {
      "text/plain": [
       "(38.7889814814815,)"
      ]
     },
     "metadata": {},
     "execution_count": 21
    }
   ],
   "metadata": {}
  },
  {
   "cell_type": "markdown",
   "source": [
    "## 6 What was the average fare by passenger class? By survival?\r\n"
   ],
   "metadata": {}
  },
  {
   "cell_type": "code",
   "execution_count": 22,
   "source": [
    "# The following three queries are for average fare by class\r\n",
    "p_cur.execute(\"\"\"SELECT AVG(fare)\r\n",
    "                   FROM titanic\r\n",
    "                  WHERE pclass = 3\"\"\")\r\n",
    "p_cur.fetchone()"
   ],
   "outputs": [
    {
     "output_type": "execute_result",
     "data": {
      "text/plain": [
       "(13.7077073921971,)"
      ]
     },
     "metadata": {},
     "execution_count": 22
    }
   ],
   "metadata": {}
  },
  {
   "cell_type": "code",
   "execution_count": 23,
   "source": [
    "p_cur.execute(\"\"\"SELECT AVG(fare)\r\n",
    "                   FROM titanic\r\n",
    "                  WHERE pclass = 2\"\"\")\r\n",
    "p_cur.fetchone()"
   ],
   "outputs": [
    {
     "output_type": "execute_result",
     "data": {
      "text/plain": [
       "(20.6621831521739,)"
      ]
     },
     "metadata": {},
     "execution_count": 23
    }
   ],
   "metadata": {}
  },
  {
   "cell_type": "code",
   "execution_count": 24,
   "source": [
    "p_cur.execute(\"\"\"SELECT AVG(fare)\r\n",
    "                   FROM titanic\r\n",
    "                  WHERE pclass = 1\"\"\")\r\n",
    "p_cur.fetchone()"
   ],
   "outputs": [
    {
     "output_type": "execute_result",
     "data": {
      "text/plain": [
       "(84.1546874999999,)"
      ]
     },
     "metadata": {},
     "execution_count": 24
    }
   ],
   "metadata": {}
  },
  {
   "cell_type": "code",
   "execution_count": 25,
   "source": [
    "# The following two queries are for average fare by those who survived and those who died\r\n",
    "p_cur.execute(\"\"\"SELECT AVG(fare)\r\n",
    "                   FROM titanic\r\n",
    "                  WHERE survived = 'true'\"\"\")\r\n",
    "p_cur.fetchone()"
   ],
   "outputs": [
    {
     "output_type": "execute_result",
     "data": {
      "text/plain": [
       "(48.3954076023392,)"
      ]
     },
     "metadata": {},
     "execution_count": 25
    }
   ],
   "metadata": {}
  },
  {
   "cell_type": "code",
   "execution_count": 26,
   "source": [
    "p_cur.execute(\"\"\"SELECT AVG(fare)\r\n",
    "                   FROM titanic\r\n",
    "                  WHERE survived = 'false'\"\"\")\r\n",
    "p_cur.fetchone()"
   ],
   "outputs": [
    {
     "output_type": "execute_result",
     "data": {
      "text/plain": [
       "(22.2085840366972,)"
      ]
     },
     "metadata": {},
     "execution_count": 26
    }
   ],
   "metadata": {}
  },
  {
   "cell_type": "markdown",
   "source": [
    "## 7 How many siblings/spouses aboard on average, by passenger class? By survival?"
   ],
   "metadata": {}
  },
  {
   "cell_type": "code",
   "execution_count": 27,
   "source": [
    "# Avg sib_spouse by class\r\n",
    "p_cur.execute(\"\"\"SELECT AVG(sib_spouse)\r\n",
    "                   FROM titanic\r\n",
    "                  WHERE pclass = 3\"\"\")\r\n",
    "p_cur.fetchone()"
   ],
   "outputs": [
    {
     "output_type": "execute_result",
     "data": {
      "text/plain": [
       "(Decimal('0.62012320328542094456'),)"
      ]
     },
     "metadata": {},
     "execution_count": 27
    }
   ],
   "metadata": {}
  },
  {
   "cell_type": "code",
   "execution_count": 28,
   "source": [
    "p_cur.execute(\"\"\"SELECT AVG(sib_spouse)\r\n",
    "                   FROM titanic\r\n",
    "                  WHERE pclass = 2\"\"\")\r\n",
    "p_cur.fetchone()"
   ],
   "outputs": [
    {
     "output_type": "execute_result",
     "data": {
      "text/plain": [
       "(Decimal('0.40217391304347826087'),)"
      ]
     },
     "metadata": {},
     "execution_count": 28
    }
   ],
   "metadata": {}
  },
  {
   "cell_type": "code",
   "execution_count": 29,
   "source": [
    "p_cur.execute(\"\"\"SELECT AVG(sib_spouse)\r\n",
    "                   FROM titanic\r\n",
    "                  WHERE pclass = 1\"\"\")\r\n",
    "p_cur.fetchone()"
   ],
   "outputs": [
    {
     "output_type": "execute_result",
     "data": {
      "text/plain": [
       "(Decimal('0.41666666666666666667'),)"
      ]
     },
     "metadata": {},
     "execution_count": 29
    }
   ],
   "metadata": {}
  },
  {
   "cell_type": "code",
   "execution_count": 30,
   "source": [
    "# Avg sib_spouse by survived/died\r\n",
    "p_cur.execute(\"\"\"SELECT AVG(sib_spouse)\r\n",
    "                   FROM titanic\r\n",
    "                  WHERE survived = 'true'\"\"\")\r\n",
    "p_cur.fetchone()"
   ],
   "outputs": [
    {
     "output_type": "execute_result",
     "data": {
      "text/plain": [
       "(Decimal('0.47368421052631578947'),)"
      ]
     },
     "metadata": {},
     "execution_count": 30
    }
   ],
   "metadata": {}
  },
  {
   "cell_type": "code",
   "execution_count": 31,
   "source": [
    "p_cur.execute(\"\"\"SELECT AVG(sib_spouse)\r\n",
    "                   FROM titanic\r\n",
    "                  WHERE survived = 'false'\"\"\")\r\n",
    "p_cur.fetchone()"
   ],
   "outputs": [
    {
     "output_type": "execute_result",
     "data": {
      "text/plain": [
       "(Decimal('0.55779816513761467890'),)"
      ]
     },
     "metadata": {},
     "execution_count": 31
    }
   ],
   "metadata": {}
  },
  {
   "cell_type": "markdown",
   "source": [
    "## 8 How many parents/children aboard on average, by passenger class? By survival?"
   ],
   "metadata": {}
  },
  {
   "cell_type": "code",
   "execution_count": 32,
   "source": [
    "# Avg parent_children by class\r\n",
    "p_cur.execute(\"\"\"SELECT AVG(parent_children)\r\n",
    "                   FROM titanic\r\n",
    "                  WHERE pclass = 3\"\"\")\r\n",
    "p_cur.fetchone()"
   ],
   "outputs": [
    {
     "output_type": "execute_result",
     "data": {
      "text/plain": [
       "(Decimal('0.39630390143737166324'),)"
      ]
     },
     "metadata": {},
     "execution_count": 32
    }
   ],
   "metadata": {}
  },
  {
   "cell_type": "code",
   "execution_count": 35,
   "source": [
    "p_cur.execute(\"\"\"SELECT AVG(parent_children)\r\n",
    "                   FROM titanic\r\n",
    "                  WHERE pclass = 2\"\"\")\r\n",
    "p_cur.fetchone()"
   ],
   "outputs": [
    {
     "output_type": "execute_result",
     "data": {
      "text/plain": [
       "(Decimal('0.38043478260869565217'),)"
      ]
     },
     "metadata": {},
     "execution_count": 35
    }
   ],
   "metadata": {}
  },
  {
   "cell_type": "code",
   "execution_count": 36,
   "source": [
    "p_cur.execute(\"\"\"SELECT AVG(parent_children)\r\n",
    "                   FROM titanic\r\n",
    "                  WHERE pclass = 1\"\"\")\r\n",
    "p_cur.fetchone()"
   ],
   "outputs": [
    {
     "output_type": "execute_result",
     "data": {
      "text/plain": [
       "(Decimal('0.35648148148148148148'),)"
      ]
     },
     "metadata": {},
     "execution_count": 36
    }
   ],
   "metadata": {}
  },
  {
   "cell_type": "code",
   "execution_count": 37,
   "source": [
    "# Avg parent_chlidren of survived/died\r\n",
    "p_cur.execute(\"\"\"SELECT AVG(parent_children)\r\n",
    "                   FROM titanic\r\n",
    "                  WHERE survived = 'true'\"\"\")\r\n",
    "p_cur.fetchone()"
   ],
   "outputs": [
    {
     "output_type": "execute_result",
     "data": {
      "text/plain": [
       "(Decimal('0.46491228070175438596'),)"
      ]
     },
     "metadata": {},
     "execution_count": 37
    }
   ],
   "metadata": {}
  },
  {
   "cell_type": "code",
   "execution_count": 38,
   "source": [
    "p_cur.execute(\"\"\"SELECT AVG(parent_children)\r\n",
    "                   FROM titanic\r\n",
    "                  WHERE survived = 'false'\"\"\")\r\n",
    "p_cur.fetchone()"
   ],
   "outputs": [
    {
     "output_type": "execute_result",
     "data": {
      "text/plain": [
       "(Decimal('0.33211009174311926606'),)"
      ]
     },
     "metadata": {},
     "execution_count": 38
    }
   ],
   "metadata": {}
  },
  {
   "cell_type": "markdown",
   "source": [
    "## 9 Do any passengers have the same name?\r\n"
   ],
   "metadata": {}
  },
  {
   "cell_type": "code",
   "execution_count": 39,
   "source": [
    "p_cur.execute(\"\"\"SELECT COUNT(DISTINCT name)\r\n",
    "                   FROM titanic;\"\"\")\r\n",
    "p_cur.fetchone()"
   ],
   "outputs": [
    {
     "output_type": "execute_result",
     "data": {
      "text/plain": [
       "(887,)"
      ]
     },
     "metadata": {},
     "execution_count": 39
    }
   ],
   "metadata": {}
  }
 ],
 "metadata": {
  "orig_nbformat": 4,
  "language_info": {
   "name": "python",
   "version": "3.7.10",
   "mimetype": "text/x-python",
   "codemirror_mode": {
    "name": "ipython",
    "version": 3
   },
   "pygments_lexer": "ipython3",
   "nbconvert_exporter": "python",
   "file_extension": ".py"
  },
  "kernelspec": {
   "name": "python3",
   "display_name": "Python 3.7.10 64-bit ('myenv': conda)"
  },
  "interpreter": {
   "hash": "e82140576776b90a7fc4ff21fba833b580dc270eca3341761abe10127dd660c2"
  }
 },
 "nbformat": 4,
 "nbformat_minor": 2
}